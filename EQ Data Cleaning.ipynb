{
 "cells": [
  {
   "cell_type": "markdown",
   "metadata": {},
   "source": [
    "# Earthquake damage modelling: Data Cleaning"
   ]
  },
  {
   "cell_type": "code",
   "execution_count": 1,
   "metadata": {},
   "outputs": [],
   "source": [
    "#Importing necessary Libraries\n",
    "%matplotlib inline\n",
    "import pandas as pd\n",
    "import numpy as np\n",
    "import nltk\n",
    "import string\n",
    "import matplotlib.pyplot as plt\n",
    "import seaborn as sns"
   ]
  },
  {
   "cell_type": "code",
   "execution_count": 2,
   "metadata": {},
   "outputs": [],
   "source": [
    "import warnings\n",
    "warnings.filterwarnings(\"ignore\")"
   ]
  },
  {
   "cell_type": "code",
   "execution_count": 3,
   "metadata": {},
   "outputs": [],
   "source": [
    "structure_data=pd.read_csv('csv_building_structure.csv')\n",
    "ownership_data=pd.read_csv('csv_building_ownership_and_use.csv')\n",
    "damage_data=pd.read_csv('csv_building_damage_assessment.csv')"
   ]
  },
  {
   "cell_type": "markdown",
   "metadata": {},
   "source": [
    "## Structure Data:"
   ]
  },
  {
   "cell_type": "code",
   "execution_count": 4,
   "metadata": {},
   "outputs": [
    {
     "data": {
      "text/plain": [
       "(762106, 31)"
      ]
     },
     "execution_count": 4,
     "metadata": {},
     "output_type": "execute_result"
    }
   ],
   "source": [
    "structure_data.shape"
   ]
  },
  {
   "cell_type": "code",
   "execution_count": 5,
   "metadata": {},
   "outputs": [
    {
     "data": {
      "text/plain": [
       "Index(['building_id', 'district_id', 'vdcmun_id', 'ward_id',\n",
       "       'count_floors_pre_eq', 'count_floors_post_eq', 'age_building',\n",
       "       'plinth_area_sq_ft', 'height_ft_pre_eq', 'height_ft_post_eq',\n",
       "       'land_surface_condition', 'foundation_type', 'roof_type',\n",
       "       'ground_floor_type', 'other_floor_type', 'position',\n",
       "       'plan_configuration', 'has_superstructure_adobe_mud',\n",
       "       'has_superstructure_mud_mortar_stone', 'has_superstructure_stone_flag',\n",
       "       'has_superstructure_cement_mortar_stone',\n",
       "       'has_superstructure_mud_mortar_brick',\n",
       "       'has_superstructure_cement_mortar_brick', 'has_superstructure_timber',\n",
       "       'has_superstructure_bamboo', 'has_superstructure_rc_non_engineered',\n",
       "       'has_superstructure_rc_engineered', 'has_superstructure_other',\n",
       "       'condition_post_eq', 'damage_grade', 'technical_solution_proposed'],\n",
       "      dtype='object')"
      ]
     },
     "execution_count": 5,
     "metadata": {},
     "output_type": "execute_result"
    }
   ],
   "source": [
    "structure_data.columns"
   ]
  },
  {
   "cell_type": "code",
   "execution_count": 6,
   "metadata": {},
   "outputs": [
    {
     "data": {
      "text/html": [
       "<div>\n",
       "<style scoped>\n",
       "    .dataframe tbody tr th:only-of-type {\n",
       "        vertical-align: middle;\n",
       "    }\n",
       "\n",
       "    .dataframe tbody tr th {\n",
       "        vertical-align: top;\n",
       "    }\n",
       "\n",
       "    .dataframe thead th {\n",
       "        text-align: right;\n",
       "    }\n",
       "</style>\n",
       "<table border=\"1\" class=\"dataframe\">\n",
       "  <thead>\n",
       "    <tr style=\"text-align: right;\">\n",
       "      <th></th>\n",
       "      <th>building_id</th>\n",
       "      <th>district_id</th>\n",
       "      <th>vdcmun_id</th>\n",
       "      <th>ward_id</th>\n",
       "      <th>count_floors_pre_eq</th>\n",
       "      <th>count_floors_post_eq</th>\n",
       "      <th>age_building</th>\n",
       "      <th>plinth_area_sq_ft</th>\n",
       "      <th>height_ft_pre_eq</th>\n",
       "      <th>height_ft_post_eq</th>\n",
       "      <th>...</th>\n",
       "      <th>has_superstructure_mud_mortar_brick</th>\n",
       "      <th>has_superstructure_cement_mortar_brick</th>\n",
       "      <th>has_superstructure_timber</th>\n",
       "      <th>has_superstructure_bamboo</th>\n",
       "      <th>has_superstructure_rc_non_engineered</th>\n",
       "      <th>has_superstructure_rc_engineered</th>\n",
       "      <th>has_superstructure_other</th>\n",
       "      <th>condition_post_eq</th>\n",
       "      <th>damage_grade</th>\n",
       "      <th>technical_solution_proposed</th>\n",
       "    </tr>\n",
       "  </thead>\n",
       "  <tbody>\n",
       "    <tr>\n",
       "      <th>0</th>\n",
       "      <td>120101000011</td>\n",
       "      <td>12</td>\n",
       "      <td>1207</td>\n",
       "      <td>120703</td>\n",
       "      <td>1</td>\n",
       "      <td>1</td>\n",
       "      <td>9</td>\n",
       "      <td>288</td>\n",
       "      <td>9</td>\n",
       "      <td>9</td>\n",
       "      <td>...</td>\n",
       "      <td>0</td>\n",
       "      <td>0</td>\n",
       "      <td>0</td>\n",
       "      <td>1</td>\n",
       "      <td>0</td>\n",
       "      <td>0</td>\n",
       "      <td>0</td>\n",
       "      <td>Damaged-Used in risk</td>\n",
       "      <td>Grade 3</td>\n",
       "      <td>Major repair</td>\n",
       "    </tr>\n",
       "    <tr>\n",
       "      <th>1</th>\n",
       "      <td>120101000021</td>\n",
       "      <td>12</td>\n",
       "      <td>1207</td>\n",
       "      <td>120703</td>\n",
       "      <td>1</td>\n",
       "      <td>1</td>\n",
       "      <td>15</td>\n",
       "      <td>364</td>\n",
       "      <td>9</td>\n",
       "      <td>9</td>\n",
       "      <td>...</td>\n",
       "      <td>0</td>\n",
       "      <td>0</td>\n",
       "      <td>0</td>\n",
       "      <td>1</td>\n",
       "      <td>0</td>\n",
       "      <td>0</td>\n",
       "      <td>0</td>\n",
       "      <td>Damaged-Repaired and used</td>\n",
       "      <td>Grade 5</td>\n",
       "      <td>Reconstruction</td>\n",
       "    </tr>\n",
       "  </tbody>\n",
       "</table>\n",
       "<p>2 rows × 31 columns</p>\n",
       "</div>"
      ],
      "text/plain": [
       "    building_id  district_id  vdcmun_id  ward_id  count_floors_pre_eq  \\\n",
       "0  120101000011           12       1207   120703                    1   \n",
       "1  120101000021           12       1207   120703                    1   \n",
       "\n",
       "   count_floors_post_eq  age_building  plinth_area_sq_ft  height_ft_pre_eq  \\\n",
       "0                     1             9                288                 9   \n",
       "1                     1            15                364                 9   \n",
       "\n",
       "   height_ft_post_eq             ...               \\\n",
       "0                  9             ...                \n",
       "1                  9             ...                \n",
       "\n",
       "  has_superstructure_mud_mortar_brick has_superstructure_cement_mortar_brick  \\\n",
       "0                                   0                                      0   \n",
       "1                                   0                                      0   \n",
       "\n",
       "  has_superstructure_timber has_superstructure_bamboo  \\\n",
       "0                         0                         1   \n",
       "1                         0                         1   \n",
       "\n",
       "  has_superstructure_rc_non_engineered has_superstructure_rc_engineered  \\\n",
       "0                                    0                                0   \n",
       "1                                    0                                0   \n",
       "\n",
       "  has_superstructure_other          condition_post_eq  damage_grade  \\\n",
       "0                        0       Damaged-Used in risk       Grade 3   \n",
       "1                        0  Damaged-Repaired and used       Grade 5   \n",
       "\n",
       "   technical_solution_proposed  \n",
       "0                 Major repair  \n",
       "1               Reconstruction  \n",
       "\n",
       "[2 rows x 31 columns]"
      ]
     },
     "execution_count": 6,
     "metadata": {},
     "output_type": "execute_result"
    }
   ],
   "source": [
    "structure_data.head(2)"
   ]
  },
  {
   "cell_type": "markdown",
   "metadata": {},
   "source": [
    "we only keep the data that contains structural information of the properties"
   ]
  },
  {
   "cell_type": "code",
   "execution_count": 7,
   "metadata": {},
   "outputs": [],
   "source": [
    "cols_to_drop=['condition_post_eq','technical_solution_proposed']"
   ]
  },
  {
   "cell_type": "code",
   "execution_count": 8,
   "metadata": {},
   "outputs": [
    {
     "data": {
      "text/plain": [
       "(762106, 29)"
      ]
     },
     "execution_count": 8,
     "metadata": {},
     "output_type": "execute_result"
    }
   ],
   "source": [
    "structure_data=structure_data.drop(cols_to_drop,axis=1)\n",
    "structure_data.shape"
   ]
  },
  {
   "cell_type": "markdown",
   "metadata": {},
   "source": [
    "## Ownership Data:"
   ]
  },
  {
   "cell_type": "code",
   "execution_count": 42,
   "metadata": {},
   "outputs": [
    {
     "data": {
      "text/plain": [
       "(762106, 17)"
      ]
     },
     "execution_count": 42,
     "metadata": {},
     "output_type": "execute_result"
    }
   ],
   "source": [
    "ownership_data.shape"
   ]
  },
  {
   "cell_type": "code",
   "execution_count": 9,
   "metadata": {},
   "outputs": [
    {
     "data": {
      "text/plain": [
       "Index(['building_id', 'district_id', 'vdcmun_id', 'ward_id',\n",
       "       'legal_ownership_status', 'count_families', 'has_secondary_use',\n",
       "       'has_secondary_use_agriculture', 'has_secondary_use_hotel',\n",
       "       'has_secondary_use_rental', 'has_secondary_use_institution',\n",
       "       'has_secondary_use_school', 'has_secondary_use_industry',\n",
       "       'has_secondary_use_health_post', 'has_secondary_use_gov_office',\n",
       "       'has_secondary_use_use_police', 'has_secondary_use_other'],\n",
       "      dtype='object')"
      ]
     },
     "execution_count": 9,
     "metadata": {},
     "output_type": "execute_result"
    }
   ],
   "source": [
    "ownership_data.columns"
   ]
  },
  {
   "cell_type": "code",
   "execution_count": 10,
   "metadata": {},
   "outputs": [
    {
     "data": {
      "text/html": [
       "<div>\n",
       "<style scoped>\n",
       "    .dataframe tbody tr th:only-of-type {\n",
       "        vertical-align: middle;\n",
       "    }\n",
       "\n",
       "    .dataframe tbody tr th {\n",
       "        vertical-align: top;\n",
       "    }\n",
       "\n",
       "    .dataframe thead th {\n",
       "        text-align: right;\n",
       "    }\n",
       "</style>\n",
       "<table border=\"1\" class=\"dataframe\">\n",
       "  <thead>\n",
       "    <tr style=\"text-align: right;\">\n",
       "      <th></th>\n",
       "      <th>building_id</th>\n",
       "      <th>district_id</th>\n",
       "      <th>vdcmun_id</th>\n",
       "      <th>ward_id</th>\n",
       "      <th>legal_ownership_status</th>\n",
       "      <th>count_families</th>\n",
       "      <th>has_secondary_use</th>\n",
       "      <th>has_secondary_use_agriculture</th>\n",
       "      <th>has_secondary_use_hotel</th>\n",
       "      <th>has_secondary_use_rental</th>\n",
       "      <th>has_secondary_use_institution</th>\n",
       "      <th>has_secondary_use_school</th>\n",
       "      <th>has_secondary_use_industry</th>\n",
       "      <th>has_secondary_use_health_post</th>\n",
       "      <th>has_secondary_use_gov_office</th>\n",
       "      <th>has_secondary_use_use_police</th>\n",
       "      <th>has_secondary_use_other</th>\n",
       "    </tr>\n",
       "  </thead>\n",
       "  <tbody>\n",
       "    <tr>\n",
       "      <th>0</th>\n",
       "      <td>120101000011</td>\n",
       "      <td>12</td>\n",
       "      <td>1207</td>\n",
       "      <td>120703</td>\n",
       "      <td>Private</td>\n",
       "      <td>1.0</td>\n",
       "      <td>0.0</td>\n",
       "      <td>0</td>\n",
       "      <td>0</td>\n",
       "      <td>0</td>\n",
       "      <td>0</td>\n",
       "      <td>0</td>\n",
       "      <td>0</td>\n",
       "      <td>0</td>\n",
       "      <td>0</td>\n",
       "      <td>0</td>\n",
       "      <td>0</td>\n",
       "    </tr>\n",
       "    <tr>\n",
       "      <th>1</th>\n",
       "      <td>120101000021</td>\n",
       "      <td>12</td>\n",
       "      <td>1207</td>\n",
       "      <td>120703</td>\n",
       "      <td>Private</td>\n",
       "      <td>1.0</td>\n",
       "      <td>0.0</td>\n",
       "      <td>0</td>\n",
       "      <td>0</td>\n",
       "      <td>0</td>\n",
       "      <td>0</td>\n",
       "      <td>0</td>\n",
       "      <td>0</td>\n",
       "      <td>0</td>\n",
       "      <td>0</td>\n",
       "      <td>0</td>\n",
       "      <td>0</td>\n",
       "    </tr>\n",
       "  </tbody>\n",
       "</table>\n",
       "</div>"
      ],
      "text/plain": [
       "    building_id  district_id  vdcmun_id  ward_id legal_ownership_status  \\\n",
       "0  120101000011           12       1207   120703                Private   \n",
       "1  120101000021           12       1207   120703                Private   \n",
       "\n",
       "   count_families  has_secondary_use  has_secondary_use_agriculture  \\\n",
       "0             1.0                0.0                              0   \n",
       "1             1.0                0.0                              0   \n",
       "\n",
       "   has_secondary_use_hotel  has_secondary_use_rental  \\\n",
       "0                        0                         0   \n",
       "1                        0                         0   \n",
       "\n",
       "   has_secondary_use_institution  has_secondary_use_school  \\\n",
       "0                              0                         0   \n",
       "1                              0                         0   \n",
       "\n",
       "   has_secondary_use_industry  has_secondary_use_health_post  \\\n",
       "0                           0                              0   \n",
       "1                           0                              0   \n",
       "\n",
       "   has_secondary_use_gov_office  has_secondary_use_use_police  \\\n",
       "0                             0                             0   \n",
       "1                             0                             0   \n",
       "\n",
       "   has_secondary_use_other  \n",
       "0                        0  \n",
       "1                        0  "
      ]
     },
     "execution_count": 10,
     "metadata": {},
     "output_type": "execute_result"
    }
   ],
   "source": [
    "ownership_data.head(2)"
   ]
  },
  {
   "cell_type": "markdown",
   "metadata": {},
   "source": [
    "## Damage Data: "
   ]
  },
  {
   "cell_type": "code",
   "execution_count": 48,
   "metadata": {},
   "outputs": [
    {
     "data": {
      "text/plain": [
       "(762106, 79)"
      ]
     },
     "execution_count": 48,
     "metadata": {},
     "output_type": "execute_result"
    }
   ],
   "source": [
    "damage_data.shape"
   ]
  },
  {
   "cell_type": "code",
   "execution_count": 49,
   "metadata": {},
   "outputs": [
    {
     "data": {
      "text/plain": [
       "Index(['building_id', 'district_id', 'vdcmun_id', 'ward_id',\n",
       "       'damage_overall_collapse', 'damage_overall_leaning',\n",
       "       'damage_overall_adjacent_building_risk', 'damage_foundation_severe',\n",
       "       'damage_foundation_moderate', 'damage_foundation_insignificant',\n",
       "       'damage_roof_severe', 'damage_roof_moderate',\n",
       "       'damage_roof_insignificant', 'damage_corner_separation_severe',\n",
       "       'damage_corner_separation_moderate',\n",
       "       'damage_corner_separation_insignificant',\n",
       "       'damage_diagonal_cracking_severe', 'damage_diagonal_cracking_moderate',\n",
       "       'damage_diagonal_cracking_insignificant',\n",
       "       'damage_in_plane_failure_severe', 'damage_in_plane_failure_moderate',\n",
       "       'damage_in_plane_failure_insignificant',\n",
       "       'damage_out_of_plane_failure_severe',\n",
       "       'damage_out_of_plane_failure_moderate',\n",
       "       'damage_out_of_plane_failure_insignificant',\n",
       "       'damage_out_of_plane_failure_walls_ncfr_severe',\n",
       "       'damage_out_of_plane_failure_walls_ncfr_moderate',\n",
       "       'damage_out_of_plane_failure_walls_ncfr_insignificant',\n",
       "       'damage_gable_failure_severe', 'damage_gable_failure_moderate',\n",
       "       'damage_gable_failure_insignificant',\n",
       "       'damage_delamination_failure_severe',\n",
       "       'damage_delamination_failure_moderate',\n",
       "       'damage_delamination_failure_insignificant',\n",
       "       'damage_column_failure_severe', 'damage_column_failure_moderate',\n",
       "       'damage_column_failure_insignificant', 'damage_beam_failure_severe',\n",
       "       'damage_beam_failure_moderate', 'damage_beam_failure_insignificant',\n",
       "       'damage_infill_partition_failure_severe',\n",
       "       'damage_infill_partition_failure_moderate',\n",
       "       'damage_infill_partition_failure_insignificant',\n",
       "       'damage_staircase_severe', 'damage_staircase_moderate',\n",
       "       'damage_staircase_insignificant', 'damage_parapet_severe',\n",
       "       'damage_parapet_moderate', 'damage_parapet_insignificant',\n",
       "       'damage_cladding_glazing_severe', 'damage_cladding_glazing_moderate',\n",
       "       'damage_cladding_glazing_insignificant', 'area_assesed', 'damage_grade',\n",
       "       'technical_solution_proposed', 'has_repair_started',\n",
       "       'has_damage_foundation', 'has_damage_roof',\n",
       "       'has_damage_corner_separation', 'has_damage_diagonal_cracking',\n",
       "       'has_damage_in_plane_failure', 'has_damage_out_of_plane_failure',\n",
       "       'has_damage_out_of_plane_walls_ncfr_failure',\n",
       "       'has_damage_gable_failure', 'has_damage_delamination_failure',\n",
       "       'has_damage_column_failure', 'has_damage_beam_failure',\n",
       "       'has_damage_infill_partition_failure', 'has_damage_staircase',\n",
       "       'has_damage_parapet', 'has_damage_cladding_glazing',\n",
       "       'has_geotechnical_risk', 'has_geotechnical_risk_land_settlement',\n",
       "       'has_geotechnical_risk_fault_crack',\n",
       "       'has_geotechnical_risk_liquefaction', 'has_geotechnical_risk_landslide',\n",
       "       'has_geotechnical_risk_rock_fall', 'has_geotechnical_risk_flood',\n",
       "       'has_geotechnical_risk_other'],\n",
       "      dtype='object')"
      ]
     },
     "execution_count": 49,
     "metadata": {},
     "output_type": "execute_result"
    }
   ],
   "source": [
    "damage_data.columns"
   ]
  },
  {
   "cell_type": "code",
   "execution_count": 50,
   "metadata": {},
   "outputs": [
    {
     "data": {
      "text/html": [
       "<div>\n",
       "<style scoped>\n",
       "    .dataframe tbody tr th:only-of-type {\n",
       "        vertical-align: middle;\n",
       "    }\n",
       "\n",
       "    .dataframe tbody tr th {\n",
       "        vertical-align: top;\n",
       "    }\n",
       "\n",
       "    .dataframe thead th {\n",
       "        text-align: right;\n",
       "    }\n",
       "</style>\n",
       "<table border=\"1\" class=\"dataframe\">\n",
       "  <thead>\n",
       "    <tr style=\"text-align: right;\">\n",
       "      <th></th>\n",
       "      <th>building_id</th>\n",
       "      <th>district_id</th>\n",
       "      <th>vdcmun_id</th>\n",
       "      <th>ward_id</th>\n",
       "      <th>damage_overall_collapse</th>\n",
       "      <th>damage_overall_leaning</th>\n",
       "      <th>damage_overall_adjacent_building_risk</th>\n",
       "      <th>damage_foundation_severe</th>\n",
       "      <th>damage_foundation_moderate</th>\n",
       "      <th>damage_foundation_insignificant</th>\n",
       "      <th>...</th>\n",
       "      <th>has_damage_parapet</th>\n",
       "      <th>has_damage_cladding_glazing</th>\n",
       "      <th>has_geotechnical_risk</th>\n",
       "      <th>has_geotechnical_risk_land_settlement</th>\n",
       "      <th>has_geotechnical_risk_fault_crack</th>\n",
       "      <th>has_geotechnical_risk_liquefaction</th>\n",
       "      <th>has_geotechnical_risk_landslide</th>\n",
       "      <th>has_geotechnical_risk_rock_fall</th>\n",
       "      <th>has_geotechnical_risk_flood</th>\n",
       "      <th>has_geotechnical_risk_other</th>\n",
       "    </tr>\n",
       "  </thead>\n",
       "  <tbody>\n",
       "    <tr>\n",
       "      <th>0</th>\n",
       "      <td>120101000011</td>\n",
       "      <td>12</td>\n",
       "      <td>1207</td>\n",
       "      <td>120703</td>\n",
       "      <td>Moderate-Heavy</td>\n",
       "      <td>Insignificant/light</td>\n",
       "      <td>None</td>\n",
       "      <td>NaN</td>\n",
       "      <td>Moderate-Heavy-(&lt;1/3)</td>\n",
       "      <td>Insignificant/light-(&lt;1/3)</td>\n",
       "      <td>...</td>\n",
       "      <td>0.0</td>\n",
       "      <td>0.0</td>\n",
       "      <td>0.0</td>\n",
       "      <td>0</td>\n",
       "      <td>0</td>\n",
       "      <td>0</td>\n",
       "      <td>0</td>\n",
       "      <td>0</td>\n",
       "      <td>0</td>\n",
       "      <td>0</td>\n",
       "    </tr>\n",
       "    <tr>\n",
       "      <th>1</th>\n",
       "      <td>120101000021</td>\n",
       "      <td>12</td>\n",
       "      <td>1207</td>\n",
       "      <td>120703</td>\n",
       "      <td>Severe-Extreme</td>\n",
       "      <td>Severe-Extreme</td>\n",
       "      <td>Insignificant/light</td>\n",
       "      <td>Severe-Extreme-(&gt;2/3)</td>\n",
       "      <td>NaN</td>\n",
       "      <td>NaN</td>\n",
       "      <td>...</td>\n",
       "      <td>0.0</td>\n",
       "      <td>0.0</td>\n",
       "      <td>0.0</td>\n",
       "      <td>0</td>\n",
       "      <td>0</td>\n",
       "      <td>0</td>\n",
       "      <td>0</td>\n",
       "      <td>0</td>\n",
       "      <td>0</td>\n",
       "      <td>0</td>\n",
       "    </tr>\n",
       "  </tbody>\n",
       "</table>\n",
       "<p>2 rows × 79 columns</p>\n",
       "</div>"
      ],
      "text/plain": [
       "    building_id  district_id  vdcmun_id  ward_id damage_overall_collapse  \\\n",
       "0  120101000011           12       1207   120703          Moderate-Heavy   \n",
       "1  120101000021           12       1207   120703          Severe-Extreme   \n",
       "\n",
       "  damage_overall_leaning damage_overall_adjacent_building_risk  \\\n",
       "0    Insignificant/light                                  None   \n",
       "1         Severe-Extreme                   Insignificant/light   \n",
       "\n",
       "  damage_foundation_severe damage_foundation_moderate  \\\n",
       "0                      NaN      Moderate-Heavy-(<1/3)   \n",
       "1    Severe-Extreme-(>2/3)                        NaN   \n",
       "\n",
       "  damage_foundation_insignificant             ...              \\\n",
       "0      Insignificant/light-(<1/3)             ...               \n",
       "1                             NaN             ...               \n",
       "\n",
       "  has_damage_parapet has_damage_cladding_glazing has_geotechnical_risk  \\\n",
       "0                0.0                         0.0                   0.0   \n",
       "1                0.0                         0.0                   0.0   \n",
       "\n",
       "  has_geotechnical_risk_land_settlement has_geotechnical_risk_fault_crack  \\\n",
       "0                                     0                                 0   \n",
       "1                                     0                                 0   \n",
       "\n",
       "  has_geotechnical_risk_liquefaction has_geotechnical_risk_landslide  \\\n",
       "0                                  0                               0   \n",
       "1                                  0                               0   \n",
       "\n",
       "  has_geotechnical_risk_rock_fall has_geotechnical_risk_flood  \\\n",
       "0                               0                           0   \n",
       "1                               0                           0   \n",
       "\n",
       "  has_geotechnical_risk_other  \n",
       "0                           0  \n",
       "1                           0  \n",
       "\n",
       "[2 rows x 79 columns]"
      ]
     },
     "execution_count": 50,
     "metadata": {},
     "output_type": "execute_result"
    }
   ],
   "source": [
    "damage_data.head(2)"
   ]
  },
  {
   "cell_type": "markdown",
   "metadata": {},
   "source": [
    "In practice 'damage grade' of a property is assesed based on the features in the damage_data, as our goal is to predict the damage grade using structrual data,we will use damage data except damage grade for visualization purpose only."
   ]
  },
  {
   "cell_type": "code",
   "execution_count": 11,
   "metadata": {},
   "outputs": [],
   "source": [
    "def feature_info(feature):\n",
    "    print('Unique values in the feature:',feature.unique())\n",
    "    print('No of Null values:',feature.isna().sum())"
   ]
  },
  {
   "cell_type": "code",
   "execution_count": 12,
   "metadata": {},
   "outputs": [
    {
     "name": "stdout",
     "output_type": "stream",
     "text": [
      "Unique values in the feature: ['Moderate-Heavy' 'Severe-Extreme' 'Insignificant/light' nan 'None']\n",
      "No of Null values: 261363\n"
     ]
    }
   ],
   "source": [
    "feature_info(damage_data.damage_overall_collapse)"
   ]
  },
  {
   "cell_type": "code",
   "execution_count": 8,
   "metadata": {},
   "outputs": [
    {
     "name": "stdout",
     "output_type": "stream",
     "text": [
      "Unique values in the feature: ['Major repair' 'Reconstruction' 'Minor repair' 'No need' nan]\n",
      "No of Null values: 12\n"
     ]
    }
   ],
   "source": [
    "feature_info(damage_data.technical_solution_proposed)"
   ]
  },
  {
   "cell_type": "code",
   "execution_count": 9,
   "metadata": {},
   "outputs": [
    {
     "name": "stdout",
     "output_type": "stream",
     "text": [
      "Unique values in the feature: ['Grade 3' 'Grade 5' 'Grade 2' 'Grade 1' 'Grade 4' nan]\n",
      "No of Null values: 12\n"
     ]
    }
   ],
   "source": [
    "feature_info(damage_data.damage_grade)"
   ]
  },
  {
   "cell_type": "code",
   "execution_count": 13,
   "metadata": {},
   "outputs": [],
   "source": [
    "y_labels=damage_data['damage_grade']"
   ]
  },
  {
   "cell_type": "markdown",
   "metadata": {},
   "source": [
    "# Data Preparation:"
   ]
  },
  {
   "cell_type": "code",
   "execution_count": 218,
   "metadata": {},
   "outputs": [],
   "source": [
    "# https://stackoverflow.com/questions/23668427/pandas-three-way-joining-multiple-dataframes-on-columns\n",
    "from functools import reduce\n",
    "df=[structure_data,ownership_data]\n",
    "raw_data=reduce(lambda left,right:pd.merge(left,right,on='building_id',how='inner'),df)"
   ]
  },
  {
   "cell_type": "code",
   "execution_count": 219,
   "metadata": {},
   "outputs": [
    {
     "data": {
      "text/plain": [
       "(762106, 45)"
      ]
     },
     "execution_count": 219,
     "metadata": {},
     "output_type": "execute_result"
    }
   ],
   "source": [
    "raw_data.shape"
   ]
  },
  {
   "cell_type": "code",
   "execution_count": 220,
   "metadata": {},
   "outputs": [
    {
     "data": {
      "text/html": [
       "<div>\n",
       "<style scoped>\n",
       "    .dataframe tbody tr th:only-of-type {\n",
       "        vertical-align: middle;\n",
       "    }\n",
       "\n",
       "    .dataframe tbody tr th {\n",
       "        vertical-align: top;\n",
       "    }\n",
       "\n",
       "    .dataframe thead th {\n",
       "        text-align: right;\n",
       "    }\n",
       "</style>\n",
       "<table border=\"1\" class=\"dataframe\">\n",
       "  <thead>\n",
       "    <tr style=\"text-align: right;\">\n",
       "      <th></th>\n",
       "      <th>building_id</th>\n",
       "      <th>district_id_x</th>\n",
       "      <th>vdcmun_id_x</th>\n",
       "      <th>ward_id_x</th>\n",
       "      <th>count_floors_pre_eq</th>\n",
       "      <th>count_floors_post_eq</th>\n",
       "      <th>age_building</th>\n",
       "      <th>plinth_area_sq_ft</th>\n",
       "      <th>height_ft_pre_eq</th>\n",
       "      <th>height_ft_post_eq</th>\n",
       "      <th>...</th>\n",
       "      <th>has_secondary_use_agriculture</th>\n",
       "      <th>has_secondary_use_hotel</th>\n",
       "      <th>has_secondary_use_rental</th>\n",
       "      <th>has_secondary_use_institution</th>\n",
       "      <th>has_secondary_use_school</th>\n",
       "      <th>has_secondary_use_industry</th>\n",
       "      <th>has_secondary_use_health_post</th>\n",
       "      <th>has_secondary_use_gov_office</th>\n",
       "      <th>has_secondary_use_use_police</th>\n",
       "      <th>has_secondary_use_other</th>\n",
       "    </tr>\n",
       "  </thead>\n",
       "  <tbody>\n",
       "    <tr>\n",
       "      <th>0</th>\n",
       "      <td>120101000011</td>\n",
       "      <td>12</td>\n",
       "      <td>1207</td>\n",
       "      <td>120703</td>\n",
       "      <td>1</td>\n",
       "      <td>1</td>\n",
       "      <td>9</td>\n",
       "      <td>288</td>\n",
       "      <td>9</td>\n",
       "      <td>9</td>\n",
       "      <td>...</td>\n",
       "      <td>0</td>\n",
       "      <td>0</td>\n",
       "      <td>0</td>\n",
       "      <td>0</td>\n",
       "      <td>0</td>\n",
       "      <td>0</td>\n",
       "      <td>0</td>\n",
       "      <td>0</td>\n",
       "      <td>0</td>\n",
       "      <td>0</td>\n",
       "    </tr>\n",
       "    <tr>\n",
       "      <th>1</th>\n",
       "      <td>120101000021</td>\n",
       "      <td>12</td>\n",
       "      <td>1207</td>\n",
       "      <td>120703</td>\n",
       "      <td>1</td>\n",
       "      <td>1</td>\n",
       "      <td>15</td>\n",
       "      <td>364</td>\n",
       "      <td>9</td>\n",
       "      <td>9</td>\n",
       "      <td>...</td>\n",
       "      <td>0</td>\n",
       "      <td>0</td>\n",
       "      <td>0</td>\n",
       "      <td>0</td>\n",
       "      <td>0</td>\n",
       "      <td>0</td>\n",
       "      <td>0</td>\n",
       "      <td>0</td>\n",
       "      <td>0</td>\n",
       "      <td>0</td>\n",
       "    </tr>\n",
       "    <tr>\n",
       "      <th>2</th>\n",
       "      <td>120101000031</td>\n",
       "      <td>12</td>\n",
       "      <td>1207</td>\n",
       "      <td>120703</td>\n",
       "      <td>1</td>\n",
       "      <td>1</td>\n",
       "      <td>20</td>\n",
       "      <td>384</td>\n",
       "      <td>9</td>\n",
       "      <td>9</td>\n",
       "      <td>...</td>\n",
       "      <td>0</td>\n",
       "      <td>0</td>\n",
       "      <td>0</td>\n",
       "      <td>0</td>\n",
       "      <td>0</td>\n",
       "      <td>0</td>\n",
       "      <td>0</td>\n",
       "      <td>0</td>\n",
       "      <td>0</td>\n",
       "      <td>0</td>\n",
       "    </tr>\n",
       "    <tr>\n",
       "      <th>3</th>\n",
       "      <td>120101000041</td>\n",
       "      <td>12</td>\n",
       "      <td>1207</td>\n",
       "      <td>120703</td>\n",
       "      <td>1</td>\n",
       "      <td>1</td>\n",
       "      <td>20</td>\n",
       "      <td>312</td>\n",
       "      <td>9</td>\n",
       "      <td>9</td>\n",
       "      <td>...</td>\n",
       "      <td>0</td>\n",
       "      <td>0</td>\n",
       "      <td>0</td>\n",
       "      <td>0</td>\n",
       "      <td>0</td>\n",
       "      <td>0</td>\n",
       "      <td>0</td>\n",
       "      <td>0</td>\n",
       "      <td>0</td>\n",
       "      <td>0</td>\n",
       "    </tr>\n",
       "    <tr>\n",
       "      <th>4</th>\n",
       "      <td>120101000051</td>\n",
       "      <td>12</td>\n",
       "      <td>1207</td>\n",
       "      <td>120703</td>\n",
       "      <td>1</td>\n",
       "      <td>1</td>\n",
       "      <td>30</td>\n",
       "      <td>308</td>\n",
       "      <td>9</td>\n",
       "      <td>9</td>\n",
       "      <td>...</td>\n",
       "      <td>0</td>\n",
       "      <td>0</td>\n",
       "      <td>0</td>\n",
       "      <td>0</td>\n",
       "      <td>0</td>\n",
       "      <td>0</td>\n",
       "      <td>0</td>\n",
       "      <td>0</td>\n",
       "      <td>0</td>\n",
       "      <td>0</td>\n",
       "    </tr>\n",
       "  </tbody>\n",
       "</table>\n",
       "<p>5 rows × 45 columns</p>\n",
       "</div>"
      ],
      "text/plain": [
       "    building_id  district_id_x  vdcmun_id_x  ward_id_x  count_floors_pre_eq  \\\n",
       "0  120101000011             12         1207     120703                    1   \n",
       "1  120101000021             12         1207     120703                    1   \n",
       "2  120101000031             12         1207     120703                    1   \n",
       "3  120101000041             12         1207     120703                    1   \n",
       "4  120101000051             12         1207     120703                    1   \n",
       "\n",
       "   count_floors_post_eq  age_building  plinth_area_sq_ft  height_ft_pre_eq  \\\n",
       "0                     1             9                288                 9   \n",
       "1                     1            15                364                 9   \n",
       "2                     1            20                384                 9   \n",
       "3                     1            20                312                 9   \n",
       "4                     1            30                308                 9   \n",
       "\n",
       "   height_ft_post_eq           ...            has_secondary_use_agriculture  \\\n",
       "0                  9           ...                                        0   \n",
       "1                  9           ...                                        0   \n",
       "2                  9           ...                                        0   \n",
       "3                  9           ...                                        0   \n",
       "4                  9           ...                                        0   \n",
       "\n",
       "  has_secondary_use_hotel has_secondary_use_rental  \\\n",
       "0                       0                        0   \n",
       "1                       0                        0   \n",
       "2                       0                        0   \n",
       "3                       0                        0   \n",
       "4                       0                        0   \n",
       "\n",
       "  has_secondary_use_institution has_secondary_use_school  \\\n",
       "0                             0                        0   \n",
       "1                             0                        0   \n",
       "2                             0                        0   \n",
       "3                             0                        0   \n",
       "4                             0                        0   \n",
       "\n",
       "  has_secondary_use_industry has_secondary_use_health_post  \\\n",
       "0                          0                             0   \n",
       "1                          0                             0   \n",
       "2                          0                             0   \n",
       "3                          0                             0   \n",
       "4                          0                             0   \n",
       "\n",
       "   has_secondary_use_gov_office  has_secondary_use_use_police  \\\n",
       "0                             0                             0   \n",
       "1                             0                             0   \n",
       "2                             0                             0   \n",
       "3                             0                             0   \n",
       "4                             0                             0   \n",
       "\n",
       "   has_secondary_use_other  \n",
       "0                        0  \n",
       "1                        0  \n",
       "2                        0  \n",
       "3                        0  \n",
       "4                        0  \n",
       "\n",
       "[5 rows x 45 columns]"
      ]
     },
     "execution_count": 220,
     "metadata": {},
     "output_type": "execute_result"
    }
   ],
   "source": [
    "raw_data.head(5)"
   ]
  },
  {
   "cell_type": "code",
   "execution_count": 221,
   "metadata": {},
   "outputs": [],
   "source": [
    "raw_data=raw_data.rename(index=str,columns={'district_id_x':'geo1','vdcmun_id_x':'geo2','ward_id_x':'geo3'})"
   ]
  },
  {
   "cell_type": "code",
   "execution_count": 222,
   "metadata": {},
   "outputs": [
    {
     "data": {
      "text/plain": [
       "Index(['building_id', 'geo1', 'geo2', 'geo3', 'count_floors_pre_eq',\n",
       "       'count_floors_post_eq', 'age_building', 'plinth_area_sq_ft',\n",
       "       'height_ft_pre_eq', 'height_ft_post_eq', 'land_surface_condition',\n",
       "       'foundation_type', 'roof_type', 'ground_floor_type', 'other_floor_type',\n",
       "       'position', 'plan_configuration', 'has_superstructure_adobe_mud',\n",
       "       'has_superstructure_mud_mortar_stone', 'has_superstructure_stone_flag',\n",
       "       'has_superstructure_cement_mortar_stone',\n",
       "       'has_superstructure_mud_mortar_brick',\n",
       "       'has_superstructure_cement_mortar_brick', 'has_superstructure_timber',\n",
       "       'has_superstructure_bamboo', 'has_superstructure_rc_non_engineered',\n",
       "       'has_superstructure_rc_engineered', 'has_superstructure_other',\n",
       "       'damage_grade', 'district_id_y', 'vdcmun_id_y', 'ward_id_y',\n",
       "       'legal_ownership_status', 'count_families', 'has_secondary_use',\n",
       "       'has_secondary_use_agriculture', 'has_secondary_use_hotel',\n",
       "       'has_secondary_use_rental', 'has_secondary_use_institution',\n",
       "       'has_secondary_use_school', 'has_secondary_use_industry',\n",
       "       'has_secondary_use_health_post', 'has_secondary_use_gov_office',\n",
       "       'has_secondary_use_use_police', 'has_secondary_use_other'],\n",
       "      dtype='object')"
      ]
     },
     "execution_count": 222,
     "metadata": {},
     "output_type": "execute_result"
    }
   ],
   "source": [
    "raw_data.columns"
   ]
  },
  {
   "cell_type": "code",
   "execution_count": 223,
   "metadata": {},
   "outputs": [],
   "source": [
    "cols_to_drop=['district_id_y', 'vdcmun_id_y', 'ward_id_y']"
   ]
  },
  {
   "cell_type": "code",
   "execution_count": 224,
   "metadata": {},
   "outputs": [],
   "source": [
    "raw_data=raw_data.drop(cols_to_drop,axis=1)"
   ]
  },
  {
   "cell_type": "code",
   "execution_count": 225,
   "metadata": {},
   "outputs": [
    {
     "data": {
      "text/plain": [
       "building_id                                0\n",
       "geo1                                       0\n",
       "geo2                                       0\n",
       "geo3                                       0\n",
       "count_floors_pre_eq                        0\n",
       "count_floors_post_eq                       0\n",
       "age_building                               0\n",
       "plinth_area_sq_ft                          0\n",
       "height_ft_pre_eq                           0\n",
       "height_ft_post_eq                          0\n",
       "land_surface_condition                     0\n",
       "foundation_type                            0\n",
       "roof_type                                  0\n",
       "ground_floor_type                          0\n",
       "other_floor_type                           0\n",
       "position                                   1\n",
       "plan_configuration                         1\n",
       "has_superstructure_adobe_mud               0\n",
       "has_superstructure_mud_mortar_stone        0\n",
       "has_superstructure_stone_flag              0\n",
       "has_superstructure_cement_mortar_stone     0\n",
       "has_superstructure_mud_mortar_brick        0\n",
       "has_superstructure_cement_mortar_brick     0\n",
       "has_superstructure_timber                  0\n",
       "has_superstructure_bamboo                  0\n",
       "has_superstructure_rc_non_engineered       0\n",
       "has_superstructure_rc_engineered           0\n",
       "has_superstructure_other                   0\n",
       "damage_grade                              12\n",
       "legal_ownership_status                     0\n",
       "count_families                             2\n",
       "has_secondary_use                         10\n",
       "has_secondary_use_agriculture              0\n",
       "has_secondary_use_hotel                    0\n",
       "has_secondary_use_rental                   0\n",
       "has_secondary_use_institution              0\n",
       "has_secondary_use_school                   0\n",
       "has_secondary_use_industry                 0\n",
       "has_secondary_use_health_post              0\n",
       "has_secondary_use_gov_office               0\n",
       "has_secondary_use_use_police               0\n",
       "has_secondary_use_other                    0\n",
       "dtype: int64"
      ]
     },
     "execution_count": 225,
     "metadata": {},
     "output_type": "execute_result"
    }
   ],
   "source": [
    "raw_data.isna().sum()"
   ]
  },
  {
   "cell_type": "markdown",
   "metadata": {},
   "source": [
    "Only small number of data points contains null value.Hence we will data points that have Null values."
   ]
  },
  {
   "cell_type": "code",
   "execution_count": 227,
   "metadata": {},
   "outputs": [
    {
     "data": {
      "text/plain": [
       "building_id                               0\n",
       "geo1                                      0\n",
       "geo2                                      0\n",
       "geo3                                      0\n",
       "count_floors_pre_eq                       0\n",
       "count_floors_post_eq                      0\n",
       "age_building                              0\n",
       "plinth_area_sq_ft                         0\n",
       "height_ft_pre_eq                          0\n",
       "height_ft_post_eq                         0\n",
       "land_surface_condition                    0\n",
       "foundation_type                           0\n",
       "roof_type                                 0\n",
       "ground_floor_type                         0\n",
       "other_floor_type                          0\n",
       "position                                  0\n",
       "plan_configuration                        0\n",
       "has_superstructure_adobe_mud              0\n",
       "has_superstructure_mud_mortar_stone       0\n",
       "has_superstructure_stone_flag             0\n",
       "has_superstructure_cement_mortar_stone    0\n",
       "has_superstructure_mud_mortar_brick       0\n",
       "has_superstructure_cement_mortar_brick    0\n",
       "has_superstructure_timber                 0\n",
       "has_superstructure_bamboo                 0\n",
       "has_superstructure_rc_non_engineered      0\n",
       "has_superstructure_rc_engineered          0\n",
       "has_superstructure_other                  0\n",
       "damage_grade                              0\n",
       "legal_ownership_status                    0\n",
       "count_families                            0\n",
       "has_secondary_use                         0\n",
       "has_secondary_use_agriculture             0\n",
       "has_secondary_use_hotel                   0\n",
       "has_secondary_use_rental                  0\n",
       "has_secondary_use_institution             0\n",
       "has_secondary_use_school                  0\n",
       "has_secondary_use_industry                0\n",
       "has_secondary_use_health_post             0\n",
       "has_secondary_use_gov_office              0\n",
       "has_secondary_use_use_police              0\n",
       "has_secondary_use_other                   0\n",
       "dtype: int64"
      ]
     },
     "execution_count": 227,
     "metadata": {},
     "output_type": "execute_result"
    }
   ],
   "source": [
    "final_data=raw_data.dropna(axis=0)\n",
    "final_data.isna().sum()"
   ]
  },
  {
   "cell_type": "code",
   "execution_count": 189,
   "metadata": {},
   "outputs": [
    {
     "name": "stdout",
     "output_type": "stream",
     "text": [
      "Unique values in the feature: ['Grade 3' 'Grade 5' 'Grade 2' 'Grade 1' 'Grade 4' nan]\n",
      "No of Null values: 12\n"
     ]
    }
   ],
   "source": [
    "feature_info(raw_data.damage_grade)"
   ]
  },
  {
   "cell_type": "code",
   "execution_count": 228,
   "metadata": {},
   "outputs": [
    {
     "name": "stdout",
     "output_type": "stream",
     "text": [
      "Shape of final raw data matrix: (762093, 42)\n",
      "No of labels: 762093\n",
      "Unique values in the feature: ['Grade 3' 'Grade 5' 'Grade 2' 'Grade 1' 'Grade 4']\n",
      "No of Null values: 0\n"
     ]
    }
   ],
   "source": [
    "print('Shape of final raw data matrix:',final_data.shape)\n",
    "print('No of labels:',len(y_labels))\n",
    "feature_info(final_data.damage_grade)"
   ]
  },
  {
   "cell_type": "code",
   "execution_count": 229,
   "metadata": {},
   "outputs": [
    {
     "name": "stdout",
     "output_type": "stream",
     "text": [
      "Unique values in the feature: ['Flat' 'Moderate slope' 'Steep slope']\n",
      "No of Null values: 0\n"
     ]
    }
   ],
   "source": [
    "feature_info(final_data.land_surface_condition)"
   ]
  },
  {
   "cell_type": "code",
   "execution_count": 230,
   "metadata": {},
   "outputs": [],
   "source": [
    "y_labels=final_data.damage_grade"
   ]
  },
  {
   "cell_type": "code",
   "execution_count": 231,
   "metadata": {},
   "outputs": [
    {
     "data": {
      "text/plain": [
       "Index(['building_id', 'geo1', 'geo2', 'geo3', 'count_floors_pre_eq',\n",
       "       'count_floors_post_eq', 'age_building', 'plinth_area_sq_ft',\n",
       "       'height_ft_pre_eq', 'height_ft_post_eq', 'land_surface_condition',\n",
       "       'foundation_type', 'roof_type', 'ground_floor_type', 'other_floor_type',\n",
       "       'position', 'plan_configuration', 'has_superstructure_adobe_mud',\n",
       "       'has_superstructure_mud_mortar_stone', 'has_superstructure_stone_flag',\n",
       "       'has_superstructure_cement_mortar_stone',\n",
       "       'has_superstructure_mud_mortar_brick',\n",
       "       'has_superstructure_cement_mortar_brick', 'has_superstructure_timber',\n",
       "       'has_superstructure_bamboo', 'has_superstructure_rc_non_engineered',\n",
       "       'has_superstructure_rc_engineered', 'has_superstructure_other',\n",
       "       'damage_grade', 'legal_ownership_status', 'count_families',\n",
       "       'has_secondary_use', 'has_secondary_use_agriculture',\n",
       "       'has_secondary_use_hotel', 'has_secondary_use_rental',\n",
       "       'has_secondary_use_institution', 'has_secondary_use_school',\n",
       "       'has_secondary_use_industry', 'has_secondary_use_health_post',\n",
       "       'has_secondary_use_gov_office', 'has_secondary_use_use_police',\n",
       "       'has_secondary_use_other'],\n",
       "      dtype='object')"
      ]
     },
     "execution_count": 231,
     "metadata": {},
     "output_type": "execute_result"
    }
   ],
   "source": [
    "final_data.columns"
   ]
  },
  {
   "cell_type": "markdown",
   "metadata": {},
   "source": [
    "#### Preprocessing Categorical variables:"
   ]
  },
  {
   "cell_type": "code",
   "execution_count": 232,
   "metadata": {},
   "outputs": [
    {
     "name": "stdout",
     "output_type": "stream",
     "text": [
      "Unique values in the feature: ['Flat' 'Moderate slope' 'Steep slope']\n",
      "No of Null values: 0\n"
     ]
    }
   ],
   "source": [
    "feature_info(final_data.land_surface_condition)"
   ]
  },
  {
   "cell_type": "code",
   "execution_count": 233,
   "metadata": {},
   "outputs": [],
   "source": [
    "final_data.land_surface_condition=final_data.land_surface_condition.map({'Flat':'Flat','Moderate slope':'Modarate_slope','Steep slope':'steep_slope'})"
   ]
  },
  {
   "cell_type": "code",
   "execution_count": 234,
   "metadata": {},
   "outputs": [
    {
     "name": "stdout",
     "output_type": "stream",
     "text": [
      "Unique values in the feature: ['Other' 'Mud mortar-Stone/Brick' 'Cement-Stone/Brick' 'Bamboo/Timber'\n",
      " 'RC']\n",
      "No of Null values: 0\n"
     ]
    }
   ],
   "source": [
    "feature_info(final_data.foundation_type)"
   ]
  },
  {
   "cell_type": "code",
   "execution_count": 235,
   "metadata": {},
   "outputs": [
    {
     "name": "stdout",
     "output_type": "stream",
     "text": [
      "Unique values in the feature: ['Bamboo/Timber-Light roof' 'Bamboo/Timber-Heavy roof' 'RCC/RB/RBC']\n",
      "No of Null values: 0\n"
     ]
    }
   ],
   "source": [
    "feature_info(final_data.roof_type)"
   ]
  },
  {
   "cell_type": "code",
   "execution_count": 236,
   "metadata": {},
   "outputs": [
    {
     "name": "stdout",
     "output_type": "stream",
     "text": [
      "Unique values in the feature: ['Mud' 'Brick/Stone' 'RC' 'Timber' 'Other']\n",
      "No of Null values: 0\n"
     ]
    }
   ],
   "source": [
    "feature_info(final_data.ground_floor_type)"
   ]
  },
  {
   "cell_type": "code",
   "execution_count": 237,
   "metadata": {},
   "outputs": [
    {
     "name": "stdout",
     "output_type": "stream",
     "text": [
      "Unique values in the feature: ['Not applicable' 'TImber/Bamboo-Mud' 'Timber-Planck' 'RCC/RB/RBC']\n",
      "No of Null values: 0\n"
     ]
    }
   ],
   "source": [
    "feature_info(final_data.other_floor_type)"
   ]
  },
  {
   "cell_type": "code",
   "execution_count": 238,
   "metadata": {},
   "outputs": [
    {
     "name": "stdout",
     "output_type": "stream",
     "text": [
      "Unique values in the feature: ['Private' 'Other' 'Institutional' 'Public']\n",
      "No of Null values: 0\n"
     ]
    }
   ],
   "source": [
    "feature_info(final_data.legal_ownership_status)"
   ]
  },
  {
   "cell_type": "code",
   "execution_count": 239,
   "metadata": {},
   "outputs": [
    {
     "name": "stdout",
     "output_type": "stream",
     "text": [
      "Unique values in the feature: ['Not attached' 'Attached-1 side' 'Attached-2 side' 'Attached-3 side']\n",
      "No of Null values: 0\n"
     ]
    }
   ],
   "source": [
    "feature_info(final_data.position)"
   ]
  },
  {
   "cell_type": "code",
   "execution_count": 240,
   "metadata": {},
   "outputs": [
    {
     "name": "stdout",
     "output_type": "stream",
     "text": [
      "Unique values in the feature: ['Rectangular' 'L-shape' 'Square' 'T-shape' 'Multi-projected' 'H-shape'\n",
      " 'U-shape' 'Others' 'E-shape' 'Building with Central Courtyard']\n",
      "No of Null values: 0\n"
     ]
    }
   ],
   "source": [
    "feature_info(final_data.plan_configuration)"
   ]
  },
  {
   "cell_type": "code",
   "execution_count": 241,
   "metadata": {},
   "outputs": [
    {
     "name": "stdout",
     "output_type": "stream",
     "text": [
      "Unique values in the feature: ['Private' 'Other' 'Institutional' 'Public']\n",
      "No of Null values: 0\n"
     ]
    }
   ],
   "source": [
    "feature_info(final_data.legal_ownership_status)"
   ]
  },
  {
   "cell_type": "code",
   "execution_count": 242,
   "metadata": {},
   "outputs": [],
   "source": [
    "final_data.foundation_type=final_data.foundation_type.map({'Mud mortar-Stone/Brick':'Mud_stone_OR_brick','Cement-Stone/Brick':'Cement_stone_OR_brick', 'Bamboo/Timber':'Bamboo_OR_Timber','Other':'Other','RC':'RC'})\n",
    "final_data.roof_type=final_data.roof_type.map({'Bamboo/Timber-Light roof':'wood_light','Bamboo/Timber-Heavy roof':'wood_heavy','RCC/RB/RBC':'RCC_RB_RBC'})\n",
    "final_data.ground_floor_type=final_data.ground_floor_type.map({'Brick/Stone':'Brick_or_Stone','Mud':'Mud','RC':'RC','Timber':'Timber','Other':'Other'})\n",
    "final_data.other_floor_type=final_data.other_floor_type.map({'Not applicable':'NotApplicable','TImber/Bamboo-Mud':'wood_mud','Timber-Planck':'Timber_Planck','RCC/RB/RBC':'RCC_RB_RBC'})\n",
    "final_data.position=final_data.position.map({'Not attached':'Not_attached','Attached-1 side':'Attached_1_side','Attached-2 side':'Attached_2_side', 'Attached-3 side':'Attached_3_side'})\n",
    "final_data.plan_configuration=final_data.plan_configuration.map(\n",
    "{\n",
    " 'Rectangular':'Rectangular','L-shape':'L_Shape','Square':'Square','T-shape':'T_Shape','Multi-projected':'Multi_projected',\n",
    "    'H-shape':'H_Shape','U-shape':'U_Shape','Others':'Others','E-shape':'E_Shape','Building with Central Courtyard':'Central_Courtyard'   \n",
    "    \n",
    "})"
   ]
  },
  {
   "cell_type": "code",
   "execution_count": 243,
   "metadata": {},
   "outputs": [
    {
     "name": "stdout",
     "output_type": "stream",
     "text": [
      "Categorical Feature Check after Preprocessing:\n",
      "---------------------------------------------\n",
      "Feature Name: land_surface_condition\n",
      "Unique values in the feature: ['Flat' 'Modarate_slope' 'steep_slope']\n",
      "No of Null values: 0\n",
      "----------------------------------------\n",
      "Feature Name: foundation_type\n",
      "Unique values in the feature: ['Other' 'Mud_stone_OR_brick' 'Cement_stone_OR_brick' 'Bamboo_OR_Timber'\n",
      " 'RC']\n",
      "No of Null values: 0\n",
      "----------------------------------------\n",
      "Feature Name: roof_type\n",
      "Unique values in the feature: ['wood_light' 'wood_heavy' 'RCC_RB_RBC']\n",
      "No of Null values: 0\n",
      "----------------------------------------\n",
      "Feature Name: ground_floor_type\n",
      "Unique values in the feature: ['Mud' 'Brick_or_Stone' 'RC' 'Timber' 'Other']\n",
      "No of Null values: 0\n",
      "----------------------------------------\n",
      "Feature Name: other_floor_type\n",
      "Unique values in the feature: ['NotApplicable' 'wood_mud' 'Timber_Planck' 'RCC_RB_RBC']\n",
      "No of Null values: 0\n",
      "----------------------------------------\n",
      "Feature Name: legal_ownership_status\n",
      "Unique values in the feature: ['Private' 'Other' 'Institutional' 'Public']\n",
      "No of Null values: 0\n",
      "----------------------------------------\n",
      "Feature Name: position\n",
      "Unique values in the feature: ['Not_attached' 'Attached_1_side' 'Attached_2_side' 'Attached_3_side']\n",
      "No of Null values: 0\n",
      "----------------------------------------\n",
      "Feature Name: plan_configuration\n",
      "Unique values in the feature: ['Rectangular' 'L_Shape' 'Square' 'T_Shape' 'Multi_projected' 'H_Shape'\n",
      " 'U_Shape' 'Others' 'E_Shape' 'Central_Courtyard']\n",
      "No of Null values: 0\n",
      "----------------------------------------\n",
      "Feature Name: legal_ownership_status\n",
      "Unique values in the feature: ['Private' 'Other' 'Institutional' 'Public']\n",
      "No of Null values: 0\n",
      "----------------------------------------\n"
     ]
    }
   ],
   "source": [
    "cat_var=['land_surface_condition','foundation_type','roof_type','ground_floor_type','other_floor_type','legal_ownership_status'\n",
    " ,'position','plan_configuration','legal_ownership_status']\n",
    "print('Categorical Feature Check after Preprocessing:')\n",
    "print('---------------------------------------------')\n",
    "for cat in cat_var:\n",
    "    print('Feature Name:',cat)\n",
    "    feature_info(final_data[cat])\n",
    "    print('----------------------------------------')"
   ]
  },
  {
   "cell_type": "markdown",
   "metadata": {},
   "source": [
    "#### Preparing Train and Test Data:"
   ]
  },
  {
   "cell_type": "code",
   "execution_count": 244,
   "metadata": {},
   "outputs": [],
   "source": [
    "train_data,test_data,y_train,y_test=train_test_split(final_data,y_labels,stratify=y_labels,test_size=0.2)"
   ]
  },
  {
   "cell_type": "code",
   "execution_count": 245,
   "metadata": {},
   "outputs": [
    {
     "name": "stdout",
     "output_type": "stream",
     "text": [
      "Shape of train data: (609674, 42)\n",
      "Shape of test data: (152419, 42)\n"
     ]
    }
   ],
   "source": [
    "print('Shape of train data:',train_data.shape)\n",
    "print('Shape of test data:',test_data.shape)"
   ]
  },
  {
   "cell_type": "code",
   "execution_count": 246,
   "metadata": {},
   "outputs": [
    {
     "name": "stdout",
     "output_type": "stream",
     "text": [
      "Unique values in the feature: ['Grade 2' 'Grade 4' 'Grade 3' 'Grade 5' 'Grade 1']\n",
      "No of Null values: 0\n",
      "Unique values in the feature: ['Grade 4' 'Grade 2' 'Grade 5' 'Grade 1' 'Grade 3']\n",
      "No of Null values: 0\n"
     ]
    }
   ],
   "source": [
    "feature_info(train_data['damage_grade'])\n",
    "feature_info(test_data['damage_grade'])"
   ]
  },
  {
   "cell_type": "code",
   "execution_count": 247,
   "metadata": {},
   "outputs": [],
   "source": [
    "# We will convert class labels in to 3 classes,if damage grade 1-2:Low,3:Medium,4-5:High\n",
    "# We will Convert class label to numeric values where 1:low,2:medium,3:high in final_data\n",
    "train_data.damage_grade=train_data.damage_grade.map({'Grade 5':3,'Grade 4':3,'Grade 1':1, 'Grade 3':2, 'Grade 2':1})\n",
    "test_data.damage_grade=test_data.damage_grade.map({'Grade 5':3,'Grade 4':3,'Grade 1':1, 'Grade 3':2, 'Grade 2':1})"
   ]
  },
  {
   "cell_type": "code",
   "execution_count": 248,
   "metadata": {},
   "outputs": [
    {
     "name": "stdout",
     "output_type": "stream",
     "text": [
      "Unique values in the feature: [1 3 2]\n",
      "No of Null values: 0\n",
      "Unique values in the feature: [3 1 2]\n",
      "No of Null values: 0\n"
     ]
    }
   ],
   "source": [
    "feature_info(train_data['damage_grade'])\n",
    "feature_info(test_data['damage_grade'])"
   ]
  },
  {
   "cell_type": "code",
   "execution_count": 249,
   "metadata": {},
   "outputs": [],
   "source": [
    "y_train=train_data.damage_grade\n",
    "y_test=test_data.damage_grade"
   ]
  },
  {
   "cell_type": "code",
   "execution_count": 250,
   "metadata": {},
   "outputs": [
    {
     "name": "stdout",
     "output_type": "stream",
     "text": [
      "No of duplicates in train: 0\n",
      "No of duplicates in test : 0\n"
     ]
    }
   ],
   "source": [
    "# final check for duplicate values\n",
    "print('No of duplicates in train: {}'.format(sum(train_data.duplicated(['building_id']))))\n",
    "print('No of duplicates in test : {}'.format(sum(test_data.duplicated())))"
   ]
  },
  {
   "cell_type": "markdown",
   "metadata": {},
   "source": [
    "#### Export Data:"
   ]
  },
  {
   "cell_type": "code",
   "execution_count": 251,
   "metadata": {},
   "outputs": [
    {
     "name": "stdout",
     "output_type": "stream",
     "text": [
      "Export Start....\n",
      "Export End.\n"
     ]
    }
   ],
   "source": [
    "train_labels=pd.DataFrame({'Labels':y_train})\n",
    "test_labels=pd.DataFrame({'Labels':y_test})\n",
    "print('Export Start....')\n",
    "train_data.to_csv('train_values.csv',index=False)\n",
    "test_data.to_csv('test_values.csv',index=False)\n",
    "train_labels.to_csv('train_labels.csv',index=False)\n",
    "test_labels.to_csv('test_labels.csv',index=False)\n",
    "print('Export End.')"
   ]
  }
 ],
 "metadata": {
  "kernelspec": {
   "display_name": "Python 3",
   "language": "python",
   "name": "python3"
  },
  "language_info": {
   "codemirror_mode": {
    "name": "ipython",
    "version": 3
   },
   "file_extension": ".py",
   "mimetype": "text/x-python",
   "name": "python",
   "nbconvert_exporter": "python",
   "pygments_lexer": "ipython3",
   "version": "3.6.5"
  }
 },
 "nbformat": 4,
 "nbformat_minor": 2
}
